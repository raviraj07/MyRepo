{
 "cells": [
  {
   "cell_type": "code",
   "execution_count": 2,
   "id": "6952e958",
   "metadata": {},
   "outputs": [
    {
     "data": {
      "text/plain": [
       "True"
      ]
     },
     "execution_count": 2,
     "metadata": {},
     "output_type": "execute_result"
    }
   ],
   "source": [
    "def check_palindrome(str1):\n",
    "    rev=str1[::-1]\n",
    "    if str1==rev:\n",
    "        return True\n",
    "    else:\n",
    "        return False\n",
    "\n",
    "check_palindrome('oohoo')"
   ]
  },
  {
   "cell_type": "code",
   "execution_count": 14,
   "id": "ee8d70e7",
   "metadata": {},
   "outputs": [
    {
     "data": {
      "text/plain": [
       "False"
      ]
     },
     "execution_count": 14,
     "metadata": {},
     "output_type": "execute_result"
    }
   ],
   "source": [
    "def check_palindrome_number(int1):\n",
    "    rev=0\n",
    "    while int1!=0:\n",
    "        temp=int1%10\n",
    "        rev=rev*10+temp\n",
    "        int1=int1//10\n",
    "    if rev==int1:\n",
    "        return True\n",
    "    else:\n",
    "        return False\n",
    "\n",
    "check_palindrome_number(20102)"
   ]
  },
  {
   "cell_type": "code",
   "execution_count": 15,
   "id": "7b6143f5",
   "metadata": {},
   "outputs": [
    {
     "data": {
      "text/plain": [
       "54321"
      ]
     },
     "execution_count": 15,
     "metadata": {},
     "output_type": "execute_result"
    }
   ],
   "source": [
    "def reverse_number(number):\n",
    "    reverse=0\n",
    "    while number!=0:\n",
    "        temp=number%10\n",
    "        reverse=reverse*10+temp\n",
    "        number=number//10\n",
    "    return reverse\n",
    "\n",
    "reverse_number(12345)"
   ]
  },
  {
   "cell_type": "code",
   "execution_count": 20,
   "id": "9fd14c8a",
   "metadata": {},
   "outputs": [
    {
     "data": {
      "text/plain": [
       "'ivaR'"
      ]
     },
     "execution_count": 20,
     "metadata": {},
     "output_type": "execute_result"
    }
   ],
   "source": [
    "def reverse_string(str1):\n",
    "    result=\"\"\n",
    "    for i in str1:\n",
    "        result=i+result\n",
    "    return result\n",
    "\n",
    "reverse_string('Ravi')"
   ]
  },
  {
   "cell_type": "code",
   "execution_count": 40,
   "id": "459461af",
   "metadata": {},
   "outputs": [
    {
     "name": "stdout",
     "output_type": "stream",
     "text": [
      "[0, 1, 1, 2, 3, 5, 8, 13, 21, 34, 55, 89, 144, 233, 377, 610, 987, 1597, 2584, 4181]\n"
     ]
    }
   ],
   "source": [
    "#Fibonacci\n",
    "a=0\n",
    "b=1\n",
    "lst=[a,b]\n",
    "for i in range(1,19):\n",
    "    c=a+b\n",
    "    lst.append(c)\n",
    "    a=b\n",
    "    b=c\n",
    "print(lst)"
   ]
  },
  {
   "cell_type": "code",
   "execution_count": null,
   "id": "f6c462f0",
   "metadata": {},
   "outputs": [],
   "source": []
  },
  {
   "cell_type": "code",
   "execution_count": null,
   "id": "223c7cb7",
   "metadata": {},
   "outputs": [],
   "source": []
  },
  {
   "cell_type": "code",
   "execution_count": null,
   "id": "ff92e91e",
   "metadata": {},
   "outputs": [],
   "source": []
  },
  {
   "cell_type": "code",
   "execution_count": 24,
   "id": "ab520739",
   "metadata": {},
   "outputs": [
    {
     "name": "stdout",
     "output_type": "stream",
     "text": [
      "Enter a number: 3\n",
      "5\n"
     ]
    }
   ],
   "source": [
    "a=input('Enter a number: ')\n",
    "def add_2():\n",
    "    return int(a)+2\n",
    "a=add_2()\n",
    "print(a)"
   ]
  },
  {
   "cell_type": "code",
   "execution_count": 25,
   "id": "a915f217",
   "metadata": {},
   "outputs": [],
   "source": [
    "Months_Dict={\"January\":1,\"February\":2,\"March\":3,\n",
    "             \"April\":4,\"May\":5,\"June\":6,\"July\":7,\n",
    "             \"August\":8,\"September\":9,\"October\":10,\n",
    "             \"November\":11,\"December\":12}"
   ]
  },
  {
   "cell_type": "code",
   "execution_count": 26,
   "id": "83939dc9",
   "metadata": {},
   "outputs": [
    {
     "name": "stdout",
     "output_type": "stream",
     "text": [
      "January 1000\n",
      "February 2000\n",
      "March 3000\n",
      "April 4000\n",
      "May 5000\n",
      "June 6000\n",
      "July 7000\n",
      "August 8000\n",
      "September 9000\n",
      "October 10000\n",
      "November 11000\n",
      "December 12000\n"
     ]
    }
   ],
   "source": [
    "for i,j in Months_Dict.items():\n",
    "    print(i,j*1000)"
   ]
  },
  {
   "cell_type": "code",
   "execution_count": 27,
   "id": "893eef24",
   "metadata": {},
   "outputs": [],
   "source": [
    "months=[]\n",
    "for i in Months_Dict.keys():\n",
    "    months.append(i)"
   ]
  },
  {
   "cell_type": "code",
   "execution_count": 28,
   "id": "d63ef1a4",
   "metadata": {},
   "outputs": [
    {
     "data": {
      "text/plain": [
       "['January',\n",
       " 'February',\n",
       " 'March',\n",
       " 'April',\n",
       " 'May',\n",
       " 'June',\n",
       " 'July',\n",
       " 'August',\n",
       " 'September',\n",
       " 'October',\n",
       " 'November',\n",
       " 'December']"
      ]
     },
     "execution_count": 28,
     "metadata": {},
     "output_type": "execute_result"
    }
   ],
   "source": [
    "months"
   ]
  },
  {
   "cell_type": "code",
   "execution_count": 32,
   "id": "7cd6e0e8",
   "metadata": {},
   "outputs": [
    {
     "data": {
      "text/plain": [
       "Counter({1: 7, 2: 7, 4: 4, 5: 3, 6: 3, 8: 3, 9: 3, 10: 1})"
      ]
     },
     "execution_count": 32,
     "metadata": {},
     "output_type": "execute_result"
    }
   ],
   "source": [
    "from collections import Counter\n",
    "List_frequency=[1,1,1,1,1,1,1,2,2,2,2,2,2,2,4,4,4,4,5,5,5,6,6,6,8,8,8,9,9,9,10]\n",
    "Counter(List_frequency)"
   ]
  },
  {
   "cell_type": "code",
   "execution_count": 34,
   "id": "19e73933",
   "metadata": {},
   "outputs": [
    {
     "data": {
      "text/plain": [
       "{1: 7, 2: 7, 4: 4, 5: 3, 6: 3, 8: 3, 9: 3, 10: 1}"
      ]
     },
     "execution_count": 34,
     "metadata": {},
     "output_type": "execute_result"
    }
   ],
   "source": [
    "dict(Counter(List_frequency))"
   ]
  },
  {
   "cell_type": "code",
   "execution_count": 35,
   "id": "0c0e401b",
   "metadata": {},
   "outputs": [
    {
     "name": "stdout",
     "output_type": "stream",
     "text": [
      "1\n",
      "2\n",
      "4\n",
      "5\n",
      "6\n",
      "8\n",
      "9\n",
      "10\n"
     ]
    }
   ],
   "source": [
    "for i in dict(Counter(List_frequency)).keys():\n",
    "    print(i)"
   ]
  },
  {
   "cell_type": "code",
   "execution_count": null,
   "id": "9233e5fd",
   "metadata": {},
   "outputs": [],
   "source": []
  }
 ],
 "metadata": {
  "kernelspec": {
   "display_name": "Python 3",
   "language": "python",
   "name": "python3"
  },
  "language_info": {
   "codemirror_mode": {
    "name": "ipython",
    "version": 3
   },
   "file_extension": ".py",
   "mimetype": "text/x-python",
   "name": "python",
   "nbconvert_exporter": "python",
   "pygments_lexer": "ipython3",
   "version": "3.8.8"
  }
 },
 "nbformat": 4,
 "nbformat_minor": 5
}
