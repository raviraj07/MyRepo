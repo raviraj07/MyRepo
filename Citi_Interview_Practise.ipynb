{
 "cells": [
  {
   "cell_type": "markdown",
   "id": "c30d3af0",
   "metadata": {},
   "source": [
    "My Practise Programs"
   ]
  },
  {
   "cell_type": "code",
   "execution_count": 8,
   "id": "252e4b33",
   "metadata": {},
   "outputs": [],
   "source": [
    "str1='Ravi Raj'"
   ]
  },
  {
   "cell_type": "code",
   "execution_count": 9,
   "id": "5ea97c78",
   "metadata": {},
   "outputs": [
    {
     "data": {
      "text/plain": [
       "8"
      ]
     },
     "execution_count": 9,
     "metadata": {},
     "output_type": "execute_result"
    }
   ],
   "source": [
    "len(str1)"
   ]
  },
  {
   "cell_type": "code",
   "execution_count": 10,
   "id": "d5fae4e3",
   "metadata": {},
   "outputs": [
    {
     "data": {
      "text/plain": [
       "range(0, 8)"
      ]
     },
     "execution_count": 10,
     "metadata": {},
     "output_type": "execute_result"
    }
   ],
   "source": [
    "range(len(str1))"
   ]
  },
  {
   "cell_type": "code",
   "execution_count": 11,
   "id": "da4d63a8",
   "metadata": {},
   "outputs": [],
   "source": [
    "a=123214.243242"
   ]
  },
  {
   "cell_type": "code",
   "execution_count": 13,
   "id": "635c9119",
   "metadata": {},
   "outputs": [
    {
     "data": {
      "text/plain": [
       "123215"
      ]
     },
     "execution_count": 13,
     "metadata": {},
     "output_type": "execute_result"
    }
   ],
   "source": [
    "import math\n",
    "math.ceil(a)"
   ]
  },
  {
   "cell_type": "code",
   "execution_count": 14,
   "id": "1eeb4d36",
   "metadata": {},
   "outputs": [
    {
     "data": {
      "text/plain": [
       "123214"
      ]
     },
     "execution_count": 14,
     "metadata": {},
     "output_type": "execute_result"
    }
   ],
   "source": [
    "math.floor(a)"
   ]
  },
  {
   "cell_type": "code",
   "execution_count": 15,
   "id": "f03458f8",
   "metadata": {},
   "outputs": [
    {
     "data": {
      "text/plain": [
       "123214"
      ]
     },
     "execution_count": 15,
     "metadata": {},
     "output_type": "execute_result"
    }
   ],
   "source": [
    "round(a)"
   ]
  },
  {
   "cell_type": "code",
   "execution_count": 4,
   "id": "d52b8590",
   "metadata": {},
   "outputs": [
    {
     "data": {
      "text/plain": [
       "True"
      ]
     },
     "execution_count": 4,
     "metadata": {},
     "output_type": "execute_result"
    }
   ],
   "source": [
    "def check_palindrome(str1):\n",
    "    str1=str1.lower()\n",
    "    rev=str1[::-1]\n",
    "    rev=rev.lower()\n",
    "    if str1==rev:\n",
    "        return True\n",
    "    else:\n",
    "        return False\n",
    "\n",
    "check_palindrome('oohoo')\n",
    "    "
   ]
  },
  {
   "cell_type": "code",
   "execution_count": 7,
   "id": "41cbc025",
   "metadata": {},
   "outputs": [],
   "source": [
    "str2='Ravi'"
   ]
  },
  {
   "cell_type": "code",
   "execution_count": 8,
   "id": "67a2b3a6",
   "metadata": {},
   "outputs": [
    {
     "data": {
      "text/plain": [
       "'a'"
      ]
     },
     "execution_count": 8,
     "metadata": {},
     "output_type": "execute_result"
    }
   ],
   "source": [
    "str2[1:2]"
   ]
  },
  {
   "cell_type": "code",
   "execution_count": 19,
   "id": "fdde3ccd",
   "metadata": {},
   "outputs": [
    {
     "data": {
      "text/plain": [
       "'avi'"
      ]
     },
     "execution_count": 19,
     "metadata": {},
     "output_type": "execute_result"
    }
   ],
   "source": [
    "str2[1:4]"
   ]
  },
  {
   "cell_type": "code",
   "execution_count": 20,
   "id": "e261f1fb",
   "metadata": {},
   "outputs": [
    {
     "data": {
      "text/plain": [
       "'Rav'"
      ]
     },
     "execution_count": 20,
     "metadata": {},
     "output_type": "execute_result"
    }
   ],
   "source": [
    "str2[:3]"
   ]
  },
  {
   "cell_type": "code",
   "execution_count": 21,
   "id": "71e398c8",
   "metadata": {},
   "outputs": [
    {
     "data": {
      "text/plain": [
       "'ai'"
      ]
     },
     "execution_count": 21,
     "metadata": {},
     "output_type": "execute_result"
    }
   ],
   "source": [
    "str2[1:4:2]"
   ]
  },
  {
   "cell_type": "code",
   "execution_count": 22,
   "id": "3080d01c",
   "metadata": {},
   "outputs": [
    {
     "data": {
      "text/plain": [
       "'RaviRaj'"
      ]
     },
     "execution_count": 22,
     "metadata": {},
     "output_type": "execute_result"
    }
   ],
   "source": [
    "str2[:]"
   ]
  },
  {
   "cell_type": "code",
   "execution_count": 23,
   "id": "6c770d24",
   "metadata": {},
   "outputs": [
    {
     "data": {
      "text/plain": [
       "'RaviRaj'"
      ]
     },
     "execution_count": 23,
     "metadata": {},
     "output_type": "execute_result"
    }
   ],
   "source": [
    "str2[::]"
   ]
  },
  {
   "cell_type": "code",
   "execution_count": 24,
   "id": "be2ff8bb",
   "metadata": {},
   "outputs": [
    {
     "data": {
      "text/plain": [
       "'j'"
      ]
     },
     "execution_count": 24,
     "metadata": {},
     "output_type": "execute_result"
    }
   ],
   "source": [
    "str2[-1:]"
   ]
  },
  {
   "cell_type": "code",
   "execution_count": 25,
   "id": "9e370fb3",
   "metadata": {},
   "outputs": [
    {
     "data": {
      "text/plain": [
       "'jaRivaR'"
      ]
     },
     "execution_count": 25,
     "metadata": {},
     "output_type": "execute_result"
    }
   ],
   "source": [
    "str2[::-1]"
   ]
  },
  {
   "cell_type": "code",
   "execution_count": 26,
   "id": "cccfec3d",
   "metadata": {},
   "outputs": [],
   "source": [
    "Months_Dict={\"January\":1,\"February\":2,\"March\":3,\"April\":4,\"May\":5,\"June\":6,\"July\":7,\"August\":8,\"September\":9,\"October\":10,\"November\":11,\"December\":12}"
   ]
  },
  {
   "cell_type": "code",
   "execution_count": 27,
   "id": "7629e100",
   "metadata": {},
   "outputs": [
    {
     "data": {
      "text/plain": [
       "{'January': 1,\n",
       " 'February': 2,\n",
       " 'March': 3,\n",
       " 'April': 4,\n",
       " 'May': 5,\n",
       " 'June': 6,\n",
       " 'July': 7,\n",
       " 'August': 8,\n",
       " 'September': 9,\n",
       " 'October': 10,\n",
       " 'November': 11,\n",
       " 'December': 12}"
      ]
     },
     "execution_count": 27,
     "metadata": {},
     "output_type": "execute_result"
    }
   ],
   "source": [
    "Months_Dict"
   ]
  },
  {
   "cell_type": "code",
   "execution_count": 28,
   "id": "cba7c382",
   "metadata": {},
   "outputs": [
    {
     "name": "stdout",
     "output_type": "stream",
     "text": [
      "('January', 1)\n",
      "('February', 2)\n",
      "('March', 3)\n",
      "('April', 4)\n",
      "('May', 5)\n",
      "('June', 6)\n",
      "('July', 7)\n",
      "('August', 8)\n",
      "('September', 9)\n",
      "('October', 10)\n",
      "('November', 11)\n",
      "('December', 12)\n"
     ]
    }
   ],
   "source": [
    "for i in Months_Dict.items():\n",
    "    print(i)"
   ]
  },
  {
   "cell_type": "code",
   "execution_count": 31,
   "id": "302c1a1e",
   "metadata": {},
   "outputs": [
    {
     "name": "stdout",
     "output_type": "stream",
     "text": [
      "January 100\n",
      "February 200\n",
      "March 300\n",
      "April 400\n",
      "May 500\n",
      "June 600\n",
      "July 700\n",
      "August 800\n",
      "September 900\n",
      "October 1000\n",
      "November 1100\n",
      "December 1200\n"
     ]
    }
   ],
   "source": [
    "for i,j in Months_Dict.items():\n",
    "        print(i,j*100)"
   ]
  },
  {
   "cell_type": "code",
   "execution_count": 39,
   "id": "8a1530b2",
   "metadata": {},
   "outputs": [
    {
     "name": "stdout",
     "output_type": "stream",
     "text": [
      "Valid\n"
     ]
    }
   ],
   "source": [
    "\n",
    "def chk_pwd(str3):\n",
    "    import re\n",
    "    if re.search(\"(?!@#$%^&)\",str3):\n",
    "        print(\"Valid\")\n",
    "    else:\n",
    "        print(\"Not Valid\")\n",
    "\n",
    "chk_pwd('Ravi')      "
   ]
  },
  {
   "cell_type": "code",
   "execution_count": 40,
   "id": "5e2a7d4f",
   "metadata": {},
   "outputs": [],
   "source": [
    "sentence='I love coding'"
   ]
  },
  {
   "cell_type": "code",
   "execution_count": 41,
   "id": "32a0ee1f",
   "metadata": {},
   "outputs": [
    {
     "data": {
      "text/plain": [
       "['I', 'love', 'coding']"
      ]
     },
     "execution_count": 41,
     "metadata": {},
     "output_type": "execute_result"
    }
   ],
   "source": [
    "sentence.split()"
   ]
  },
  {
   "cell_type": "code",
   "execution_count": 43,
   "id": "1da5a439",
   "metadata": {},
   "outputs": [
    {
     "data": {
      "text/plain": [
       "Counter({1: 3, 2: 4, 3: 4, 4: 2, 5: 1})"
      ]
     },
     "execution_count": 43,
     "metadata": {},
     "output_type": "execute_result"
    }
   ],
   "source": [
    "from collections import Counter\n",
    "myList = [1,1,2,3,4,5,3,2,3,4,2,1,2,3]\n",
    "Counter(myList)"
   ]
  },
  {
   "cell_type": "code",
   "execution_count": 44,
   "id": "f94e19e5",
   "metadata": {},
   "outputs": [
    {
     "ename": "TypeError",
     "evalue": "append() takes exactly one argument (3 given)",
     "output_type": "error",
     "traceback": [
      "\u001b[0;31m---------------------------------------------------------------------------\u001b[0m",
      "\u001b[0;31mTypeError\u001b[0m                                 Traceback (most recent call last)",
      "\u001b[0;32m<ipython-input-44-f44ebdb88879>\u001b[0m in \u001b[0;36m<module>\u001b[0;34m\u001b[0m\n\u001b[1;32m      1\u001b[0m \u001b[0mdict1\u001b[0m\u001b[0;34m=\u001b[0m\u001b[0;34m{\u001b[0m\u001b[0;34m'FirstName'\u001b[0m\u001b[0;34m:\u001b[0m\u001b[0;34m[\u001b[0m\u001b[0;34m]\u001b[0m\u001b[0;34m,\u001b[0m\u001b[0;34m'LastName'\u001b[0m\u001b[0;34m:\u001b[0m\u001b[0;34m[\u001b[0m\u001b[0;34m]\u001b[0m\u001b[0;34m,\u001b[0m\u001b[0;34m'Zipcode'\u001b[0m\u001b[0;34m:\u001b[0m\u001b[0;34m[\u001b[0m\u001b[0;34m]\u001b[0m\u001b[0;34m}\u001b[0m\u001b[0;34m\u001b[0m\u001b[0;34m\u001b[0m\u001b[0m\n\u001b[0;32m----> 2\u001b[0;31m \u001b[0mdict1\u001b[0m\u001b[0;34m[\u001b[0m\u001b[0;34m'FirstName'\u001b[0m\u001b[0;34m]\u001b[0m\u001b[0;34m.\u001b[0m\u001b[0mappend\u001b[0m\u001b[0;34m(\u001b[0m\u001b[0;34m'Ravi Raj'\u001b[0m\u001b[0;34m,\u001b[0m\u001b[0;34m'Akhilesh'\u001b[0m\u001b[0;34m,\u001b[0m\u001b[0;34m'Venkatesh'\u001b[0m\u001b[0;34m)\u001b[0m\u001b[0;34m\u001b[0m\u001b[0;34m\u001b[0m\u001b[0m\n\u001b[0m\u001b[1;32m      3\u001b[0m \u001b[0mdict1\u001b[0m\u001b[0;34m[\u001b[0m\u001b[0;34m'LastName'\u001b[0m\u001b[0;34m]\u001b[0m\u001b[0;34m.\u001b[0m\u001b[0mappend\u001b[0m\u001b[0;34m(\u001b[0m\u001b[0;34m'Chenna'\u001b[0m\u001b[0;34m,\u001b[0m\u001b[0;34m'Kotla'\u001b[0m\u001b[0;34m,\u001b[0m\u001b[0;34m'Idiyala'\u001b[0m\u001b[0;34m)\u001b[0m\u001b[0;34m\u001b[0m\u001b[0;34m\u001b[0m\u001b[0m\n\u001b[1;32m      4\u001b[0m \u001b[0mdict1\u001b[0m\u001b[0;34m[\u001b[0m\u001b[0;34m'Zipcode'\u001b[0m\u001b[0;34m]\u001b[0m\u001b[0;34m.\u001b[0m\u001b[0mappend\u001b[0m\u001b[0;34m(\u001b[0m\u001b[0;36m14214\u001b[0m\u001b[0;34m,\u001b[0m\u001b[0;36m14213\u001b[0m\u001b[0;34m,\u001b[0m\u001b[0;36m14215\u001b[0m\u001b[0;34m)\u001b[0m\u001b[0;34m\u001b[0m\u001b[0;34m\u001b[0m\u001b[0m\n",
      "\u001b[0;31mTypeError\u001b[0m: append() takes exactly one argument (3 given)"
     ]
    }
   ],
   "source": [
    "dict1={'FirstName':[],'LastName':[],'Zipcode':[]}\n",
    "dict1['FirstName'].append('Ravi Raj','Akhilesh','Venkatesh')\n",
    "dict1['LastName'].append('Chenna','Kotla','Idiyala')\n",
    "dict1['Zipcode'].append(14214,14213,14215)"
   ]
  },
  {
   "cell_type": "code",
   "execution_count": 45,
   "id": "fa4efe76",
   "metadata": {},
   "outputs": [],
   "source": [
    "dict1['FirstName'].append('Ravi Raj')\n",
    "dict1['LastName'].append('Chenna')\n",
    "dict1['Zipcode'].append(14214)"
   ]
  },
  {
   "cell_type": "code",
   "execution_count": 46,
   "id": "3fa0122c",
   "metadata": {},
   "outputs": [
    {
     "data": {
      "text/plain": [
       "{'FirstName': ['Ravi Raj'], 'LastName': ['Chenna'], 'Zipcode': [14214]}"
      ]
     },
     "execution_count": 46,
     "metadata": {},
     "output_type": "execute_result"
    }
   ],
   "source": [
    "dict1"
   ]
  },
  {
   "cell_type": "code",
   "execution_count": 50,
   "id": "754b4798",
   "metadata": {},
   "outputs": [
    {
     "name": "stdout",
     "output_type": "stream",
     "text": [
      "Enter a number: 2\n",
      "14\n"
     ]
    }
   ],
   "source": [
    "a=input('Enter a number: ')\n",
    "def add():\n",
    "    return int(a)+12\n",
    "a=add()\n",
    "print(a)"
   ]
  },
  {
   "cell_type": "code",
   "execution_count": 53,
   "id": "ab6e60c7",
   "metadata": {},
   "outputs": [
    {
     "name": "stdout",
     "output_type": "stream",
     "text": [
      "R\n",
      "a\n",
      "v\n",
      "i\n"
     ]
    },
    {
     "data": {
      "text/plain": [
       "'ivaR'"
      ]
     },
     "execution_count": 53,
     "metadata": {},
     "output_type": "execute_result"
    }
   ],
   "source": [
    "def reverseAString(str1):\n",
    "    #str1=str1.lower()\n",
    "    output=\"\"\n",
    "    for i in str1:\n",
    "        print(i)\n",
    "        output=i+output\n",
    "    return output\n",
    "\n",
    "reverseAString('Ravi')"
   ]
  },
  {
   "cell_type": "code",
   "execution_count": 56,
   "id": "7852a3b6",
   "metadata": {},
   "outputs": [
    {
     "name": "stdout",
     "output_type": "stream",
     "text": [
      "4\n",
      "4\n",
      "123\n",
      "3\n",
      "43\n",
      "12\n",
      "2\n",
      "432\n",
      "1\n",
      "1\n",
      "4321\n",
      "0\n"
     ]
    },
    {
     "data": {
      "text/plain": [
       "4321"
      ]
     },
     "execution_count": 56,
     "metadata": {},
     "output_type": "execute_result"
    }
   ],
   "source": [
    "def reverseANumber(number):\n",
    "    reversed_num=0\n",
    "    while number!=0:\n",
    "        digit = number % 10\n",
    "        #print(digit) 4 3\n",
    "        reversed_num = reversed_num * 10 + digit\n",
    "        #print(reversed_num) 4 43\n",
    "        number //= 10\n",
    "        #print(number) 123 12\n",
    "    return reversed_num\n",
    "\n",
    "reverseANumber(1234)"
   ]
  },
  {
   "cell_type": "code",
   "execution_count": 77,
   "id": "5d3c1b60",
   "metadata": {},
   "outputs": [],
   "source": [
    "listre=[1,43,65,231,21,56,89,43,11]"
   ]
  },
  {
   "cell_type": "code",
   "execution_count": 85,
   "id": "72ab0b0b",
   "metadata": {},
   "outputs": [
    {
     "name": "stdout",
     "output_type": "stream",
     "text": [
      "[1, 11, 21, 43, 43, 56, 65, 89, 231]\n"
     ]
    }
   ],
   "source": [
    "listre.sort()\n",
    "print(listre)"
   ]
  },
  {
   "cell_type": "code",
   "execution_count": 154,
   "id": "124df284",
   "metadata": {},
   "outputs": [],
   "source": [
    "b=[1,9,5,4,7,8]\n",
    "b.sort()"
   ]
  },
  {
   "cell_type": "code",
   "execution_count": 155,
   "id": "b4aa823a",
   "metadata": {},
   "outputs": [
    {
     "data": {
      "text/plain": [
       "[1, 4, 5, 7, 8, 9]"
      ]
     },
     "execution_count": 155,
     "metadata": {},
     "output_type": "execute_result"
    }
   ],
   "source": [
    "b"
   ]
  },
  {
   "cell_type": "code",
   "execution_count": 84,
   "id": "6c317033",
   "metadata": {},
   "outputs": [
    {
     "name": "stdout",
     "output_type": "stream",
     "text": [
      "[2, 3, 5, 7, 11]\n"
     ]
    }
   ],
   "source": [
    "prime_numbers = [11, 3, 7, 5, 2]\n",
    "\n",
    "# sorting the list in ascending order\n",
    "prime_numbers.sort()\n",
    "\n",
    "print(prime_numbers)"
   ]
  },
  {
   "cell_type": "code",
   "execution_count": 86,
   "id": "26b35e78",
   "metadata": {},
   "outputs": [],
   "source": [
    "prime_numbers = [11, 3, 7, 5, 2]\n"
   ]
  },
  {
   "cell_type": "code",
   "execution_count": 87,
   "id": "e6fa088f",
   "metadata": {},
   "outputs": [
    {
     "data": {
      "text/plain": [
       "[2, 3, 5, 7, 11]"
      ]
     },
     "execution_count": 87,
     "metadata": {},
     "output_type": "execute_result"
    }
   ],
   "source": [
    "sorted(prime_numbers)"
   ]
  },
  {
   "cell_type": "code",
   "execution_count": 88,
   "id": "91d7de8b",
   "metadata": {},
   "outputs": [
    {
     "data": {
      "text/plain": [
       "[11, 3, 7, 5, 2]"
      ]
     },
     "execution_count": 88,
     "metadata": {},
     "output_type": "execute_result"
    }
   ],
   "source": [
    "prime_numbers"
   ]
  },
  {
   "cell_type": "code",
   "execution_count": 91,
   "id": "efaee4cc",
   "metadata": {},
   "outputs": [],
   "source": [
    "prime_numbers.sort(reverse=True)"
   ]
  },
  {
   "cell_type": "code",
   "execution_count": 92,
   "id": "e9fe7133",
   "metadata": {},
   "outputs": [
    {
     "data": {
      "text/plain": [
       "[11, 7, 5, 3, 2]"
      ]
     },
     "execution_count": 92,
     "metadata": {},
     "output_type": "execute_result"
    }
   ],
   "source": [
    "prime_numbers"
   ]
  },
  {
   "cell_type": "code",
   "execution_count": 152,
   "id": "310610e4",
   "metadata": {},
   "outputs": [
    {
     "data": {
      "text/plain": [
       "[4, 8, 12, 16, 20]"
      ]
     },
     "execution_count": 152,
     "metadata": {},
     "output_type": "execute_result"
    }
   ],
   "source": [
    "list1=[2,4,6,8,10]\n",
    "list2=list(map(lambda a:a*2,list1))\n",
    "list2"
   ]
  },
  {
   "cell_type": "code",
   "execution_count": null,
   "id": "4e2bf0da",
   "metadata": {},
   "outputs": [],
   "source": [
    "list(map(lambda n: n * 2, [1, 2, 3, 4, 5]))"
   ]
  },
  {
   "cell_type": "code",
   "execution_count": null,
   "id": "9eabe0fc",
   "metadata": {},
   "outputs": [],
   "source": [
    "(lambda x: x + 1)(2"
   ]
  },
  {
   "cell_type": "code",
   "execution_count": 60,
   "id": "25d5ea7a",
   "metadata": {},
   "outputs": [
    {
     "name": "stdout",
     "output_type": "stream",
     "text": [
      "5\n",
      "1 2 3 4 5\n"
     ]
    },
    {
     "ename": "TypeError",
     "evalue": "'map' object is not subscriptable",
     "output_type": "error",
     "traceback": [
      "\u001b[0;31m---------------------------------------------------------------------------\u001b[0m",
      "\u001b[0;31mTypeError\u001b[0m                                 Traceback (most recent call last)",
      "\u001b[0;32m<ipython-input-60-fe242dea5be8>\u001b[0m in \u001b[0;36m<module>\u001b[0;34m\u001b[0m\n\u001b[1;32m      1\u001b[0m \u001b[0mn\u001b[0m \u001b[0;34m=\u001b[0m \u001b[0mint\u001b[0m\u001b[0;34m(\u001b[0m\u001b[0minput\u001b[0m\u001b[0;34m(\u001b[0m\u001b[0;34m)\u001b[0m\u001b[0;34m)\u001b[0m\u001b[0;34m\u001b[0m\u001b[0;34m\u001b[0m\u001b[0m\n\u001b[1;32m      2\u001b[0m \u001b[0marr\u001b[0m \u001b[0;34m=\u001b[0m \u001b[0mmap\u001b[0m\u001b[0;34m(\u001b[0m\u001b[0mint\u001b[0m\u001b[0;34m,\u001b[0m \u001b[0minput\u001b[0m\u001b[0;34m(\u001b[0m\u001b[0;34m)\u001b[0m\u001b[0;34m.\u001b[0m\u001b[0msplit\u001b[0m\u001b[0;34m(\u001b[0m\u001b[0;34m)\u001b[0m\u001b[0;34m)\u001b[0m\u001b[0;34m\u001b[0m\u001b[0;34m\u001b[0m\u001b[0m\n\u001b[0;32m----> 3\u001b[0;31m \u001b[0mprint\u001b[0m\u001b[0;34m(\u001b[0m\u001b[0marr\u001b[0m\u001b[0;34m[\u001b[0m\u001b[0;36m1\u001b[0m\u001b[0;34m]\u001b[0m\u001b[0;34m)\u001b[0m\u001b[0;34m\u001b[0m\u001b[0;34m\u001b[0m\u001b[0m\n\u001b[0m",
      "\u001b[0;31mTypeError\u001b[0m: 'map' object is not subscriptable"
     ]
    }
   ],
   "source": [
    "    n = int(input())\n",
    "    arr = map(int, input().split())\n",
    "    print(arr[1])"
   ]
  },
  {
   "cell_type": "code",
   "execution_count": 94,
   "id": "cd35265a",
   "metadata": {},
   "outputs": [
    {
     "name": "stdout",
     "output_type": "stream",
     "text": [
      "Hello\n",
      "Hello\n",
      "Hello\n",
      "Hello\n",
      "Hello\n",
      "Hello\n"
     ]
    }
   ],
   "source": [
    "for i in range(6):\n",
    "    print('Hello')"
   ]
  },
  {
   "cell_type": "code",
   "execution_count": 95,
   "id": "bd30ffb7",
   "metadata": {},
   "outputs": [
    {
     "name": "stdout",
     "output_type": "stream",
     "text": [
      "[0, 1, 1, 2, 3, 5, 8, 13, 21, 34, 55, 89]\n"
     ]
    }
   ],
   "source": [
    "a=0\n",
    "b=1\n",
    "list1=[a,b]\n",
    "for i in range(10):\n",
    "    c=a+b\n",
    "    list1.append(c)\n",
    "    a=b\n",
    "    b=c\n",
    "print(list1)"
   ]
  },
  {
   "cell_type": "code",
   "execution_count": 101,
   "id": "06edf148",
   "metadata": {},
   "outputs": [
    {
     "name": "stdout",
     "output_type": "stream",
     "text": [
      "l is:  4\n",
      " n is:  The Matrix\n",
      "list1[l-i-1]= The Matrix Resurrections\n",
      "list1[i]=  The Matrix Resurrections\n",
      "list1[l-i-1]= The Matrix\n",
      " n is:  The Matrix Reloaded\n",
      "list1[l-i-1]= The Matrix Revolutions\n",
      "list1[i]=  The Matrix Revolutions\n",
      "list1[l-i-1]= The Matrix Reloaded\n",
      "['The Matrix Resurrections', 'The Matrix Revolutions', 'The Matrix Reloaded', 'The Matrix']\n"
     ]
    }
   ],
   "source": [
    "list1 = [\"The Matrix\", \"The Matrix Reloaded\", \"The Matrix Revolutions\", \"The Matrix Resurrections\"]\n",
    "l=len(list1)\n",
    "print(\"l is: \", l)\n",
    "for i in range(int(l/2)):\n",
    "    n=list1[i]\n",
    "    #print(\" n is: \",n)\n",
    "    list1[i]=list1[l-i-1] #list1[4-0-1]=list1[3], \n",
    "    #print(\"list1[l-i-1]=\",list1[l-i-1])\n",
    "    #print(\"list1[i]= \",list1[i])\n",
    "    list1[l-i-1]=n\n",
    "    #print(\"list1[l-i-1]=\",list1[l-i-1])\n",
    "print(list1)"
   ]
  },
  {
   "cell_type": "code",
   "execution_count": 102,
   "id": "2c7ad904",
   "metadata": {},
   "outputs": [
    {
     "name": "stdout",
     "output_type": "stream",
     "text": [
      "range(0, 2)\n"
     ]
    }
   ],
   "source": [
    "print(range(2))"
   ]
  },
  {
   "cell_type": "code",
   "execution_count": 103,
   "id": "503d5b09",
   "metadata": {},
   "outputs": [
    {
     "name": "stdout",
     "output_type": "stream",
     "text": [
      "0\n",
      "1\n"
     ]
    }
   ],
   "source": [
    "for i in range(2):\n",
    "    print(i)"
   ]
  },
  {
   "cell_type": "code",
   "execution_count": 104,
   "id": "7cf61d50",
   "metadata": {},
   "outputs": [
    {
     "name": "stdout",
     "output_type": "stream",
     "text": [
      "0 Yann LeCun\n",
      "1 Yoshua Bengio\n",
      "2 Geoffrey Hinton\n",
      "3 Fei-Fei Li\n",
      "4 Andrew Ng\n"
     ]
    }
   ],
   "source": [
    "researchers = ['Yann LeCun', 'Yoshua Bengio', 'Geoffrey Hinton', 'Fei-Fei Li', 'Andrew Ng']\n",
    "\n",
    "for i,j in enumerate(researchers):\n",
    "    print(i,j)"
   ]
  },
  {
   "cell_type": "code",
   "execution_count": 105,
   "id": "c39ff6c8",
   "metadata": {},
   "outputs": [],
   "source": [
    "researchers = ['Yann LeCun', 'Yoshua Bengio', 'Geoffrey Hinton', 'Fei-Fei Li', 'Andrew Ng']\n",
    "work = ['Facebook', 'Université de Montréal', 'University of Toronto', 'Stanford University', 'Landing AI']\n",
    "\n",
    "res=zip(researchers,work)"
   ]
  },
  {
   "cell_type": "code",
   "execution_count": 106,
   "id": "7e1db93e",
   "metadata": {},
   "outputs": [
    {
     "data": {
      "text/plain": [
       "<zip at 0x7fa5b8ec9dc0>"
      ]
     },
     "execution_count": 106,
     "metadata": {},
     "output_type": "execute_result"
    }
   ],
   "source": [
    "res"
   ]
  },
  {
   "cell_type": "code",
   "execution_count": 107,
   "id": "0c2c19e7",
   "metadata": {},
   "outputs": [
    {
     "name": "stdout",
     "output_type": "stream",
     "text": [
      "<zip object at 0x7fa5b8ec9dc0>\n"
     ]
    }
   ],
   "source": [
    "print(res)"
   ]
  },
  {
   "cell_type": "code",
   "execution_count": 108,
   "id": "8432912a",
   "metadata": {},
   "outputs": [
    {
     "data": {
      "text/plain": [
       "[('Yann LeCun', 'Facebook'),\n",
       " ('Yoshua Bengio', 'Université de Montréal'),\n",
       " ('Geoffrey Hinton', 'University of Toronto'),\n",
       " ('Fei-Fei Li', 'Stanford University'),\n",
       " ('Andrew Ng', 'Landing AI')]"
      ]
     },
     "execution_count": 108,
     "metadata": {},
     "output_type": "execute_result"
    }
   ],
   "source": [
    "list(res)"
   ]
  },
  {
   "cell_type": "code",
   "execution_count": 109,
   "id": "a07bc51a",
   "metadata": {},
   "outputs": [],
   "source": [
    "import numpy as np"
   ]
  },
  {
   "cell_type": "code",
   "execution_count": 116,
   "id": "f0388a4b",
   "metadata": {},
   "outputs": [
    {
     "name": "stdout",
     "output_type": "stream",
     "text": [
      "[ 7 27 26 43 20 22 27 10 40 41 36 12 36 22]\n"
     ]
    }
   ],
   "source": [
    "array1=np.random.randint(1,50,size=14)\n",
    "print(array1)"
   ]
  },
  {
   "cell_type": "code",
   "execution_count": 117,
   "id": "f7cadee3",
   "metadata": {},
   "outputs": [
    {
     "data": {
      "text/plain": [
       "array([27, 26, 43, 20, 22, 27, 10, 40, 41, 36, 12, 36, 22])"
      ]
     },
     "execution_count": 117,
     "metadata": {},
     "output_type": "execute_result"
    }
   ],
   "source": [
    "array1[1:]"
   ]
  },
  {
   "cell_type": "code",
   "execution_count": 118,
   "id": "1eac4334",
   "metadata": {},
   "outputs": [
    {
     "data": {
      "text/plain": [
       "array([ 7, 27, 26, 43, 20, 22, 27, 10, 40, 41, 36, 12, 36, 22])"
      ]
     },
     "execution_count": 118,
     "metadata": {},
     "output_type": "execute_result"
    }
   ],
   "source": [
    "array1"
   ]
  },
  {
   "cell_type": "code",
   "execution_count": 123,
   "id": "1845ed29",
   "metadata": {},
   "outputs": [
    {
     "data": {
      "text/plain": [
       "[array([ 7, 27, 26, 43]),\n",
       " array([20, 22, 27, 10]),\n",
       " array([40, 41, 36]),\n",
       " array([12, 36, 22])]"
      ]
     },
     "execution_count": 123,
     "metadata": {},
     "output_type": "execute_result"
    }
   ],
   "source": [
    "arr2=np.array_split(array1,4)\n",
    "arr2"
   ]
  },
  {
   "cell_type": "code",
   "execution_count": 124,
   "id": "bd5c4e72",
   "metadata": {},
   "outputs": [],
   "source": [
    "def listw(list1):\n",
    "    oplist=[]\n",
    "    for i in list1:\n",
    "        if i%3==0 or i%4==0:\n",
    "            oplist.append(i)\n",
    "    return oplist\n"
   ]
  },
  {
   "cell_type": "code",
   "execution_count": 125,
   "id": "5b932a22",
   "metadata": {},
   "outputs": [
    {
     "data": {
      "text/plain": [
       "[3, 4, 6, 8, 9]"
      ]
     },
     "execution_count": 125,
     "metadata": {},
     "output_type": "execute_result"
    }
   ],
   "source": [
    "listw([1,2,3,4,5,6,7,8,9,10])"
   ]
  },
  {
   "cell_type": "code",
   "execution_count": 129,
   "id": "228363bd",
   "metadata": {},
   "outputs": [],
   "source": [
    " arr3=np.reshape(listw,-1)"
   ]
  },
  {
   "cell_type": "code",
   "execution_count": 130,
   "id": "27fc88c4",
   "metadata": {},
   "outputs": [
    {
     "data": {
      "text/plain": [
       "array([<function listw at 0x7fa5b95ba0d0>], dtype=object)"
      ]
     },
     "execution_count": 130,
     "metadata": {},
     "output_type": "execute_result"
    }
   ],
   "source": [
    "arr3"
   ]
  },
  {
   "cell_type": "code",
   "execution_count": 136,
   "id": "3c265164",
   "metadata": {},
   "outputs": [
    {
     "name": "stdout",
     "output_type": "stream",
     "text": [
      "[0, 1, 1, 2, 3, 5, 8, 13, 21, 34, 55, 89, 144, 233, 377, 610, 987, 1597, 2584, 4181, 6765, 10946, 17711, 28657, 46368]\n"
     ]
    }
   ],
   "source": [
    "a=0\n",
    "b=1\n",
    "lst=[a,b]\n",
    "for i in range(1,24):\n",
    "    c=a+b\n",
    "    lst.append(c)\n",
    "    a=b\n",
    "    b=c\n",
    "print(lst)\n"
   ]
  },
  {
   "cell_type": "code",
   "execution_count": 137,
   "id": "df661f6b",
   "metadata": {},
   "outputs": [
    {
     "data": {
      "text/plain": [
       "25"
      ]
     },
     "execution_count": 137,
     "metadata": {},
     "output_type": "execute_result"
    }
   ],
   "source": [
    "len(lst)"
   ]
  },
  {
   "cell_type": "code",
   "execution_count": null,
   "id": "639fcfcc",
   "metadata": {},
   "outputs": [],
   "source": [
    "def checkFib(num):\n",
    "    a=0\n",
    "    b=1\n",
    "    lst=[a,b]\n",
    "    for i in range(1,24):\n",
    "        c=a+b\n",
    "        lst.append(c)\n",
    "        a=b\n",
    "        b=c\n",
    "    print(lst)"
   ]
  },
  {
   "cell_type": "code",
   "execution_count": 145,
   "id": "504f3c0d",
   "metadata": {},
   "outputs": [],
   "source": [
    "def firstWord(word):\n",
    "    if word=='':\n",
    "        return ''\n",
    "    else:\n",
    "        op=word.lower().split()\n",
    "        op.sort()\n",
    "        for i in op:\n",
    "            print(i)\n",
    "    \n",
    "    "
   ]
  },
  {
   "cell_type": "code",
   "execution_count": 146,
   "id": "c108df92",
   "metadata": {},
   "outputs": [
    {
     "name": "stdout",
     "output_type": "stream",
     "text": [
      "apple\n",
      "is\n",
      "my\n",
      "name\n"
     ]
    }
   ],
   "source": [
    "firstWord('My name is Apple')"
   ]
  },
  {
   "cell_type": "code",
   "execution_count": 156,
   "id": "458c5a99",
   "metadata": {},
   "outputs": [
    {
     "name": "stdout",
     "output_type": "stream",
     "text": [
      "How are you doing?I am fine\n",
      "I am fine\n"
     ]
    }
   ],
   "source": [
    "a=input('How are you doing?')\n",
    "print(a)"
   ]
  },
  {
   "cell_type": "code",
   "execution_count": 157,
   "id": "80e112ec",
   "metadata": {},
   "outputs": [],
   "source": [
    "mylist = [\"Green\",\"Green\", \"Red\", \"Yello\",1,1,2,3,4,True,False]"
   ]
  },
  {
   "cell_type": "code",
   "execution_count": 160,
   "id": "fcada928",
   "metadata": {},
   "outputs": [
    {
     "data": {
      "text/plain": [
       "[False, 1, 2, 3, 4, 'Green', 'Red', 'Yello']"
      ]
     },
     "execution_count": 160,
     "metadata": {},
     "output_type": "execute_result"
    }
   ],
   "source": [
    "list(set(mylist))"
   ]
  },
  {
   "cell_type": "code",
   "execution_count": 161,
   "id": "270d43cb",
   "metadata": {},
   "outputs": [],
   "source": [
    "tuple1=(1,2,2,3,3,4)"
   ]
  },
  {
   "cell_type": "code",
   "execution_count": 162,
   "id": "0872c915",
   "metadata": {},
   "outputs": [
    {
     "ename": "TypeError",
     "evalue": "'tuple' object does not support item assignment",
     "output_type": "error",
     "traceback": [
      "\u001b[0;31m---------------------------------------------------------------------------\u001b[0m",
      "\u001b[0;31mTypeError\u001b[0m                                 Traceback (most recent call last)",
      "\u001b[0;32m<ipython-input-162-9ded259803c0>\u001b[0m in \u001b[0;36m<module>\u001b[0;34m\u001b[0m\n\u001b[0;32m----> 1\u001b[0;31m \u001b[0mtuple1\u001b[0m\u001b[0;34m[\u001b[0m\u001b[0;36m2\u001b[0m\u001b[0;34m]\u001b[0m\u001b[0;34m=\u001b[0m\u001b[0;36m99999\u001b[0m\u001b[0;34m\u001b[0m\u001b[0;34m\u001b[0m\u001b[0m\n\u001b[0m",
      "\u001b[0;31mTypeError\u001b[0m: 'tuple' object does not support item assignment"
     ]
    }
   ],
   "source": [
    "tuple1[2]=99999"
   ]
  },
  {
   "cell_type": "code",
   "execution_count": 163,
   "id": "43f27e81",
   "metadata": {},
   "outputs": [],
   "source": [
    "mylist[3]=\"pinky red\""
   ]
  },
  {
   "cell_type": "code",
   "execution_count": 164,
   "id": "1b522033",
   "metadata": {},
   "outputs": [
    {
     "data": {
      "text/plain": [
       "['Green', 'Green', 'Red', 'pinky red', 1, 1, 2, 3, 4, True, False]"
      ]
     },
     "execution_count": 164,
     "metadata": {},
     "output_type": "execute_result"
    }
   ],
   "source": [
    "mylist"
   ]
  },
  {
   "cell_type": "code",
   "execution_count": 166,
   "id": "2dfd586c",
   "metadata": {},
   "outputs": [],
   "source": [
    "set1={1,2,3,4,432,4,4,4,4,2,2,2,1,1,1}"
   ]
  },
  {
   "cell_type": "code",
   "execution_count": 167,
   "id": "a11d4ddc",
   "metadata": {},
   "outputs": [
    {
     "data": {
      "text/plain": [
       "{1, 2, 3, 4, 432}"
      ]
     },
     "execution_count": 167,
     "metadata": {},
     "output_type": "execute_result"
    }
   ],
   "source": [
    "set1"
   ]
  },
  {
   "cell_type": "code",
   "execution_count": 168,
   "id": "11a54ffa",
   "metadata": {},
   "outputs": [
    {
     "ename": "TypeError",
     "evalue": "'set' object does not support item assignment",
     "output_type": "error",
     "traceback": [
      "\u001b[0;31m---------------------------------------------------------------------------\u001b[0m",
      "\u001b[0;31mTypeError\u001b[0m                                 Traceback (most recent call last)",
      "\u001b[0;32m<ipython-input-168-d5fe2c2ea023>\u001b[0m in \u001b[0;36m<module>\u001b[0;34m\u001b[0m\n\u001b[0;32m----> 1\u001b[0;31m \u001b[0mset1\u001b[0m\u001b[0;34m[\u001b[0m\u001b[0;36m2\u001b[0m\u001b[0;34m]\u001b[0m\u001b[0;34m=\u001b[0m\u001b[0;36m9999\u001b[0m\u001b[0;34m\u001b[0m\u001b[0;34m\u001b[0m\u001b[0m\n\u001b[0m",
      "\u001b[0;31mTypeError\u001b[0m: 'set' object does not support item assignment"
     ]
    }
   ],
   "source": [
    "set1[2]=9999"
   ]
  },
  {
   "cell_type": "code",
   "execution_count": 2,
   "id": "bd721e97",
   "metadata": {},
   "outputs": [
    {
     "name": "stdout",
     "output_type": "stream",
     "text": [
      "5\n",
      "1 2 3 4 5\n"
     ]
    }
   ],
   "source": [
    "n = int(input())\n",
    "arr = map(int, input().split())"
   ]
  },
  {
   "cell_type": "code",
   "execution_count": 4,
   "id": "200df0e1",
   "metadata": {},
   "outputs": [
    {
     "name": "stdout",
     "output_type": "stream",
     "text": [
      "4\n",
      "22 54534 65476587654 213\n",
      "54534\n"
     ]
    }
   ],
   "source": [
    "n = int(input())\n",
    "arr = map(int, input().split())\n",
    "    \n",
    "res=list(arr)\n",
    "res.remove(max(res))\n",
    "print(max(res))"
   ]
  },
  {
   "cell_type": "code",
   "execution_count": 7,
   "id": "48009feb",
   "metadata": {},
   "outputs": [
    {
     "name": "stdout",
     "output_type": "stream",
     "text": [
      "6\n"
     ]
    }
   ],
   "source": [
    "res=[1,6,2,4,6]\n",
    "res.sort()\n",
    "for i in range(len(res)):\n",
    "    if i==max(res):\n",
    "        res.remove(i)\n",
    "        i=i+1\n",
    "print(max(res))"
   ]
  },
  {
   "cell_type": "code",
   "execution_count": 8,
   "id": "620388d5",
   "metadata": {},
   "outputs": [],
   "source": [
    "def second_largest(list):\n",
    "    large= max(list)\n",
    "    list.remove(large)\n",
    "    large= max(list)\n",
    "    return large"
   ]
  },
  {
   "cell_type": "code",
   "execution_count": 9,
   "id": "8ba66a49",
   "metadata": {},
   "outputs": [
    {
     "data": {
      "text/plain": [
       "6"
      ]
     },
     "execution_count": 9,
     "metadata": {},
     "output_type": "execute_result"
    }
   ],
   "source": [
    "second_largest([1,6,2,4,6])"
   ]
  },
  {
   "cell_type": "code",
   "execution_count": 18,
   "id": "3d107cfa",
   "metadata": {},
   "outputs": [
    {
     "name": "stdout",
     "output_type": "stream",
     "text": [
      "6\n"
     ]
    }
   ],
   "source": [
    "res=[2,6,6,3]\n",
    "maximum=max(res)\n",
    "for i in res:\n",
    "    if i==maximum:\n",
    "        res.remove(i)\n",
    "        maximum=max(res)\n",
    "print(maximum)"
   ]
  },
  {
   "cell_type": "code",
   "execution_count": 15,
   "id": "5683d520",
   "metadata": {},
   "outputs": [
    {
     "name": "stdout",
     "output_type": "stream",
     "text": [
      "4\n",
      "2 6 6 3\n",
      "6\n"
     ]
    }
   ],
   "source": [
    "    n = int(input())\n",
    "    arr = map(int, input().split())\n",
    "    \n",
    "    res=list(arr)\n",
    "    maximum=max(res)\n",
    "    for i in res:\n",
    "        if i==maximum:\n",
    "            res.remove(i)\n",
    "            maximum=max(res)\n",
    "            \n",
    "            \n",
    "    print(maximum)"
   ]
  },
  {
   "cell_type": "code",
   "execution_count": 25,
   "id": "294477a1",
   "metadata": {},
   "outputs": [
    {
     "name": "stdout",
     "output_type": "stream",
     "text": [
      "3\n"
     ]
    }
   ],
   "source": [
    "res=[2,6,6,3]\n",
    "set1=set(res)\n",
    "lst=list(set1)\n",
    "maximum=max(lst)\n",
    "for i in lst:\n",
    "    if i==maximum:\n",
    "        lst.remove(i)\n",
    "        maximum=max(lst)\n",
    "print(maximum)\n"
   ]
  },
  {
   "cell_type": "code",
   "execution_count": 22,
   "id": "ea99584c",
   "metadata": {},
   "outputs": [
    {
     "data": {
      "text/plain": [
       "{2, 3, 6}"
      ]
     },
     "execution_count": 22,
     "metadata": {},
     "output_type": "execute_result"
    }
   ],
   "source": [
    "res=[2,6,6,3]\n",
    "set1=set(res)\n",
    "set1"
   ]
  },
  {
   "cell_type": "code",
   "execution_count": 23,
   "id": "c1a017b7",
   "metadata": {},
   "outputs": [],
   "source": [
    "lst=list(set1)"
   ]
  },
  {
   "cell_type": "code",
   "execution_count": 24,
   "id": "36c33e13",
   "metadata": {},
   "outputs": [
    {
     "data": {
      "text/plain": [
       "[2, 3, 6]"
      ]
     },
     "execution_count": 24,
     "metadata": {},
     "output_type": "execute_result"
    }
   ],
   "source": [
    "lst"
   ]
  },
  {
   "cell_type": "code",
   "execution_count": 26,
   "id": "669a8abc",
   "metadata": {},
   "outputs": [
    {
     "name": "stdout",
     "output_type": "stream",
     "text": [
      "2 4 5 6 7\n"
     ]
    },
    {
     "ename": "ValueError",
     "evalue": "invalid literal for int() with base 10: '2 4 5 6 7'",
     "output_type": "error",
     "traceback": [
      "\u001b[0;31m---------------------------------------------------------------------------\u001b[0m",
      "\u001b[0;31mValueError\u001b[0m                                Traceback (most recent call last)",
      "\u001b[0;32m<ipython-input-26-c771ef83f553>\u001b[0m in \u001b[0;36m<module>\u001b[0;34m\u001b[0m\n\u001b[0;32m----> 1\u001b[0;31m \u001b[0;32mfor\u001b[0m \u001b[0m_\u001b[0m \u001b[0;32min\u001b[0m \u001b[0mrange\u001b[0m\u001b[0;34m(\u001b[0m\u001b[0mint\u001b[0m\u001b[0;34m(\u001b[0m\u001b[0minput\u001b[0m\u001b[0;34m(\u001b[0m\u001b[0;34m)\u001b[0m\u001b[0;34m)\u001b[0m\u001b[0;34m)\u001b[0m\u001b[0;34m:\u001b[0m\u001b[0;34m\u001b[0m\u001b[0;34m\u001b[0m\u001b[0m\n\u001b[0m\u001b[1;32m      2\u001b[0m         \u001b[0mname\u001b[0m \u001b[0;34m=\u001b[0m \u001b[0minput\u001b[0m\u001b[0;34m(\u001b[0m\u001b[0;34m)\u001b[0m\u001b[0;34m\u001b[0m\u001b[0;34m\u001b[0m\u001b[0m\n\u001b[1;32m      3\u001b[0m         \u001b[0mscore\u001b[0m \u001b[0;34m=\u001b[0m \u001b[0mfloat\u001b[0m\u001b[0;34m(\u001b[0m\u001b[0minput\u001b[0m\u001b[0;34m(\u001b[0m\u001b[0;34m)\u001b[0m\u001b[0;34m)\u001b[0m\u001b[0;34m\u001b[0m\u001b[0;34m\u001b[0m\u001b[0m\n",
      "\u001b[0;31mValueError\u001b[0m: invalid literal for int() with base 10: '2 4 5 6 7'"
     ]
    }
   ],
   "source": [
    "for _ in range(int(input())):\n",
    "        name = input()\n",
    "        score = float(input())"
   ]
  },
  {
   "cell_type": "code",
   "execution_count": 27,
   "id": "7731a8ff",
   "metadata": {},
   "outputs": [
    {
     "name": "stdout",
     "output_type": "stream",
     "text": [
      "4\n",
      "ravi raj jon snow\n",
      "12.2 43.5 21.9 67\n"
     ]
    },
    {
     "ename": "ValueError",
     "evalue": "could not convert string to float: '12.2 43.5 21.9 67'",
     "output_type": "error",
     "traceback": [
      "\u001b[0;31m---------------------------------------------------------------------------\u001b[0m",
      "\u001b[0;31mValueError\u001b[0m                                Traceback (most recent call last)",
      "\u001b[0;32m<ipython-input-27-c771ef83f553>\u001b[0m in \u001b[0;36m<module>\u001b[0;34m\u001b[0m\n\u001b[1;32m      1\u001b[0m \u001b[0;32mfor\u001b[0m \u001b[0m_\u001b[0m \u001b[0;32min\u001b[0m \u001b[0mrange\u001b[0m\u001b[0;34m(\u001b[0m\u001b[0mint\u001b[0m\u001b[0;34m(\u001b[0m\u001b[0minput\u001b[0m\u001b[0;34m(\u001b[0m\u001b[0;34m)\u001b[0m\u001b[0;34m)\u001b[0m\u001b[0;34m)\u001b[0m\u001b[0;34m:\u001b[0m\u001b[0;34m\u001b[0m\u001b[0;34m\u001b[0m\u001b[0m\n\u001b[1;32m      2\u001b[0m         \u001b[0mname\u001b[0m \u001b[0;34m=\u001b[0m \u001b[0minput\u001b[0m\u001b[0;34m(\u001b[0m\u001b[0;34m)\u001b[0m\u001b[0;34m\u001b[0m\u001b[0;34m\u001b[0m\u001b[0m\n\u001b[0;32m----> 3\u001b[0;31m         \u001b[0mscore\u001b[0m \u001b[0;34m=\u001b[0m \u001b[0mfloat\u001b[0m\u001b[0;34m(\u001b[0m\u001b[0minput\u001b[0m\u001b[0;34m(\u001b[0m\u001b[0;34m)\u001b[0m\u001b[0;34m)\u001b[0m\u001b[0;34m\u001b[0m\u001b[0;34m\u001b[0m\u001b[0m\n\u001b[0m",
      "\u001b[0;31mValueError\u001b[0m: could not convert string to float: '12.2 43.5 21.9 67'"
     ]
    }
   ],
   "source": [
    "for _ in range(int(input())):\n",
    "        name = input()\n",
    "        score = float(input())"
   ]
  },
  {
   "cell_type": "code",
   "execution_count": null,
   "id": "28cfd1ef",
   "metadata": {},
   "outputs": [],
   "source": []
  }
 ],
 "metadata": {
  "kernelspec": {
   "display_name": "Python 3",
   "language": "python",
   "name": "python3"
  },
  "language_info": {
   "codemirror_mode": {
    "name": "ipython",
    "version": 3
   },
   "file_extension": ".py",
   "mimetype": "text/x-python",
   "name": "python",
   "nbconvert_exporter": "python",
   "pygments_lexer": "ipython3",
   "version": "3.8.8"
  }
 },
 "nbformat": 4,
 "nbformat_minor": 5
}
